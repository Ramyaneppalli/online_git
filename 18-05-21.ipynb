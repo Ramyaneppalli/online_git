{
 "cells": [
  {
   "cell_type": "code",
   "execution_count": 3,
   "id": "623f71d0",
   "metadata": {},
   "outputs": [
    {
     "name": "stdout",
     "output_type": "stream",
     "text": [
      "welcome to python programming\n"
     ]
    }
   ],
   "source": [
    "# Print statement to display a message\n",
    "print(\"welcome to python programming\")"
   ]
  },
  {
   "cell_type": "code",
   "execution_count": 4,
   "id": "8e5ec15b",
   "metadata": {},
   "outputs": [
    {
     "data": {
      "text/plain": [
       "'Multi line comments'"
      ]
     },
     "execution_count": 4,
     "metadata": {},
     "output_type": "execute_result"
    }
   ],
   "source": [
    "# Comments\n",
    "# Single line comments\n",
    "\"\"\"Multi line comments\"\"\""
   ]
  },
  {
   "cell_type": "markdown",
   "id": "4419fb45",
   "metadata": {},
   "source": [
    "Variabe\n",
    "-----------\n",
    "- variables are used to store the data/value"
   ]
  },
  {
   "cell_type": "code",
   "execution_count": 8,
   "id": "b21b62bf",
   "metadata": {},
   "outputs": [
    {
     "name": "stdout",
     "output_type": "stream",
     "text": [
      "1 2 3\n",
      "20\n"
     ]
    },
    {
     "data": {
      "text/plain": [
       "10"
      ]
     },
     "execution_count": 8,
     "metadata": {},
     "output_type": "execute_result"
    }
   ],
   "source": [
    "n1 = 10                 #Single variable assignment\n",
    "a = b = c = 20          #Multiple variable assignment\n",
    "x,y,z = 1,2,3           #Multiple variable assignment with values\n",
    "print(x,y,z)\n",
    "print(a)\n",
    "n1             #No need to use print for n1 at last,so it came with gap at o/p;if we use print then there will be no gap"
   ]
  },
  {
   "cell_type": "code",
   "execution_count": 9,
   "id": "a7063a68",
   "metadata": {},
   "outputs": [],
   "source": [
    "n1 = 567           #if there is no error then the pointer will successfully move to the next cell"
   ]
  },
  {
   "cell_type": "code",
   "execution_count": 10,
   "id": "63a5c3a5",
   "metadata": {},
   "outputs": [
    {
     "data": {
      "text/plain": [
       "567"
      ]
     },
     "execution_count": 10,
     "metadata": {},
     "output_type": "execute_result"
    }
   ],
   "source": [
    "n1             #the recent(re assigned) value of n1 will be saved  and will be shown at o/p"
   ]
  },
  {
   "cell_type": "code",
   "execution_count": 11,
   "id": "fae81696",
   "metadata": {},
   "outputs": [
    {
     "name": "stdout",
     "output_type": "stream",
     "text": [
      "python\n",
      "45.67\n",
      "800\n"
     ]
    }
   ],
   "source": [
    "s1 = \"python\"      #for string we have to use (double quotes)\"\" for assignment\n",
    "f = 45.67\n",
    "n = 800\n",
    "\n",
    "print(s1)\n",
    "print(f)\n",
    "print(n)"
   ]
  },
  {
   "cell_type": "code",
   "execution_count": 12,
   "id": "06ac888f",
   "metadata": {},
   "outputs": [
    {
     "name": "stdout",
     "output_type": "stream",
     "text": [
      "python 45.67 800\n"
     ]
    }
   ],
   "source": [
    "print(s1,f,n)     #we can print in the same line "
   ]
  },
  {
   "cell_type": "code",
   "execution_count": 82,
   "id": "abb48830",
   "metadata": {},
   "outputs": [
    {
     "name": "stdout",
     "output_type": "stream",
     "text": [
      "two strings are string1andstring2\n"
     ]
    }
   ],
   "source": [
    "s1 = \"string1\"\n",
    "s2 = \"string2\"   \n",
    "print(\"two strings are \"+s1+\"and\"+s2)\n"
   ]
  },
  {
   "cell_type": "code",
   "execution_count": 15,
   "id": "a7266848",
   "metadata": {},
   "outputs": [
    {
     "name": "stdout",
     "output_type": "stream",
     "text": [
      "first integer value as 56 and second integer value 89\n"
     ]
    }
   ],
   "source": [
    "n1 = 56\n",
    "n2 = 89\n",
    "print(\"first integer value as\",n1,\"and second integer value\",n2)"
   ]
  },
  {
   "cell_type": "code",
   "execution_count": 18,
   "id": "fd774e52",
   "metadata": {},
   "outputs": [
    {
     "name": "stdout",
     "output_type": "stream",
     "text": [
      "enter a value45963\n"
     ]
    },
    {
     "data": {
      "text/plain": [
       "'45963'"
      ]
     },
     "execution_count": 18,
     "metadata": {},
     "output_type": "execute_result"
    }
   ],
   "source": [
    "n = input(\"enter a value\")\n",
    "n"
   ]
  },
  {
   "cell_type": "code",
   "execution_count": 19,
   "id": "18c1a3e7",
   "metadata": {},
   "outputs": [
    {
     "name": "stdout",
     "output_type": "stream",
     "text": [
      "enter a value258\n",
      "<class 'int'>\n",
      "258\n"
     ]
    }
   ],
   "source": [
    "n = int(input(\"enter a value\"))\n",
    "print(type(n))\n",
    "print(n)                             #only accepts int value"
   ]
  },
  {
   "cell_type": "code",
   "execution_count": 20,
   "id": "2ea6885f",
   "metadata": {},
   "outputs": [
    {
     "name": "stdout",
     "output_type": "stream",
     "text": [
      "enter a value25\n"
     ]
    },
    {
     "data": {
      "text/plain": [
       "25.0"
      ]
     },
     "execution_count": 20,
     "metadata": {},
     "output_type": "execute_result"
    }
   ],
   "source": [
    "f  = float(input(\"enter a value\"))\n",
    "f"
   ]
  },
  {
   "cell_type": "code",
   "execution_count": 21,
   "id": "14c42711",
   "metadata": {},
   "outputs": [
    {
     "name": "stdout",
     "output_type": "stream",
     "text": [
      "enter valuepython\n"
     ]
    },
    {
     "data": {
      "text/plain": [
       "'python'"
      ]
     },
     "execution_count": 21,
     "metadata": {},
     "output_type": "execute_result"
    }
   ],
   "source": [
    "s = input(\"enter value\")            #just for input word all int,float,string can be accepted\n",
    "s"
   ]
  },
  {
   "cell_type": "code",
   "execution_count": 22,
   "id": "ee2eb396",
   "metadata": {},
   "outputs": [
    {
     "name": "stdout",
     "output_type": "stream",
     "text": [
      "python\n"
     ]
    },
    {
     "data": {
      "text/plain": [
       "'python'"
      ]
     },
     "execution_count": 22,
     "metadata": {},
     "output_type": "execute_result"
    }
   ],
   "source": [
    "s = input()                            \n",
    "s"
   ]
  },
  {
   "cell_type": "markdown",
   "id": "371a2528",
   "metadata": {},
   "source": [
    "Operators\n",
    "---------------\n",
    ">1. Arithmetic Operators\n",
    "    - +,-,*,/,%,//,**\n",
    ">2. Assignment Operators\n",
    "    - +=,-=,*=,/=,%=,//=,**=,=\n",
    ">3. Logical Operators\n",
    "    - and, or, not\n",
    ">4. BitWise Operators\n",
    "    - &,|,^,~,>>,<<\n",
    ">5. Comparison Operators\n",
    "    - <,>,<=,>=,==,===,!=\n",
    ">6. Identity Operators\n",
    "    - is, is not\n",
    ">7. Membership Operators\n",
    "    - in, not in"
   ]
  },
  {
   "cell_type": "code",
   "execution_count": 26,
   "id": "3b904ac0",
   "metadata": {},
   "outputs": [
    {
     "data": {
      "text/plain": [
       "2.5"
      ]
     },
     "execution_count": 26,
     "metadata": {},
     "output_type": "execute_result"
    }
   ],
   "source": [
    " #arithmetic operators\n",
    "a = 5             \n",
    "b = 2\n",
    "a/b    #for single slash division we get float value"
   ]
  },
  {
   "cell_type": "code",
   "execution_count": 27,
   "id": "1940f7db",
   "metadata": {},
   "outputs": [
    {
     "data": {
      "text/plain": [
       "2"
      ]
     },
     "execution_count": 27,
     "metadata": {},
     "output_type": "execute_result"
    }
   ],
   "source": [
    "a = 5\n",
    "b = 2\n",
    "a//b    #for double slash division we get integer value(also known as integer division ,float division)"
   ]
  },
  {
   "cell_type": "code",
   "execution_count": 28,
   "id": "db093524",
   "metadata": {},
   "outputs": [
    {
     "data": {
      "text/plain": [
       "25"
      ]
     },
     "execution_count": 28,
     "metadata": {},
     "output_type": "execute_result"
    }
   ],
   "source": [
    "a**b     #double star is used for power 5power2 is 25"
   ]
  },
  {
   "cell_type": "code",
   "execution_count": 30,
   "id": "3385050d",
   "metadata": {},
   "outputs": [
    {
     "data": {
      "text/plain": [
       "1"
      ]
     },
     "execution_count": 30,
     "metadata": {},
     "output_type": "execute_result"
    }
   ],
   "source": [
    "a%b      #we get remainder"
   ]
  },
  {
   "cell_type": "code",
   "execution_count": 31,
   "id": "b1dea34a",
   "metadata": {},
   "outputs": [
    {
     "name": "stdout",
     "output_type": "stream",
     "text": [
      "addition 7\n",
      "3\n",
      "10\n",
      "2.5\n",
      "nod division 1\n",
      "2\n",
      "25\n"
     ]
    }
   ],
   "source": [
    "print(\"addition\",a+b)\n",
    "print(a-b)\n",
    "print(a*b)\n",
    "print(a/b)\n",
    "print(\"nod division\",a%b)\n",
    "print(a//b)\n",
    "print(a**b)"
   ]
  },
  {
   "cell_type": "code",
   "execution_count": 51,
   "id": "57038122",
   "metadata": {},
   "outputs": [
    {
     "name": "stdout",
     "output_type": "stream",
     "text": [
      "24\n"
     ]
    }
   ],
   "source": [
    "# assignment operators\n",
    "h = 20\n",
    "h += 4                        # h=h+4  \n",
    "print(h)"
   ]
  },
  {
   "cell_type": "code",
   "execution_count": 46,
   "id": "5b93adb7",
   "metadata": {},
   "outputs": [
    {
     "data": {
      "text/plain": [
       "16"
      ]
     },
     "execution_count": 46,
     "metadata": {},
     "output_type": "execute_result"
    }
   ],
   "source": [
    "h = 20                           # here we done everytime in different cell because we are assigning multiple operators\n",
    "h -= 4\n",
    "print(h)"
   ]
  },
  {
   "cell_type": "code",
   "execution_count": 47,
   "id": "e35928bb",
   "metadata": {},
   "outputs": [
    {
     "data": {
      "text/plain": [
       "80"
      ]
     },
     "execution_count": 47,
     "metadata": {},
     "output_type": "execute_result"
    }
   ],
   "source": [
    "h = 20\n",
    "h *= 4\n",
    "print(h)"
   ]
  },
  {
   "cell_type": "code",
   "execution_count": 48,
   "id": "cdb94e42",
   "metadata": {},
   "outputs": [
    {
     "data": {
      "text/plain": [
       "5.0"
      ]
     },
     "execution_count": 48,
     "metadata": {},
     "output_type": "execute_result"
    }
   ],
   "source": [
    "h = 20\n",
    "h /= 4\n",
    "print(h)"
   ]
  },
  {
   "cell_type": "code",
   "execution_count": 49,
   "id": "5b81e200",
   "metadata": {},
   "outputs": [
    {
     "data": {
      "text/plain": [
       "0"
      ]
     },
     "execution_count": 49,
     "metadata": {},
     "output_type": "execute_result"
    }
   ],
   "source": [
    "h = 20\n",
    "h %= 4\n",
    "print(h)"
   ]
  },
  {
   "cell_type": "code",
   "execution_count": 50,
   "id": "42153165",
   "metadata": {},
   "outputs": [
    {
     "data": {
      "text/plain": [
       "5"
      ]
     },
     "execution_count": 50,
     "metadata": {},
     "output_type": "execute_result"
    }
   ],
   "source": [
    "h = 20\n",
    "h //= 4\n",
    "print(h)"
   ]
  },
  {
   "cell_type": "code",
   "execution_count": 52,
   "id": "887266fe",
   "metadata": {},
   "outputs": [
    {
     "data": {
      "text/plain": [
       "160000"
      ]
     },
     "execution_count": 52,
     "metadata": {},
     "output_type": "execute_result"
    }
   ],
   "source": [
    "h = 20\n",
    "h **= 4\n",
    "print(h)"
   ]
  },
  {
   "cell_type": "code",
   "execution_count": 53,
   "id": "553ceb37",
   "metadata": {},
   "outputs": [
    {
     "data": {
      "text/plain": [
       "4"
      ]
     },
     "execution_count": 53,
     "metadata": {},
     "output_type": "execute_result"
    }
   ],
   "source": [
    "h = 20\n",
    "h = 4\n",
    "print(h)"
   ]
  },
  {
   "cell_type": "code",
   "execution_count": 54,
   "id": "abceee04",
   "metadata": {},
   "outputs": [
    {
     "data": {
      "text/plain": [
       "True"
      ]
     },
     "execution_count": 54,
     "metadata": {},
     "output_type": "execute_result"
    }
   ],
   "source": [
    "# logical operators\n",
    "3 < 5 and 7 < 10           #and means left and right side(both sides) value should be true"
   ]
  },
  {
   "cell_type": "code",
   "execution_count": 55,
   "id": "aed9270d",
   "metadata": {},
   "outputs": [
    {
     "data": {
      "text/plain": [
       "False"
      ]
     },
     "execution_count": 55,
     "metadata": {},
     "output_type": "execute_result"
    }
   ],
   "source": [
    "2>9  and 8<11"
   ]
  },
  {
   "cell_type": "code",
   "execution_count": 56,
   "id": "f9b1a4f7",
   "metadata": {},
   "outputs": [
    {
     "data": {
      "text/plain": [
       "True"
      ]
     },
     "execution_count": 56,
     "metadata": {},
     "output_type": "execute_result"
    }
   ],
   "source": [
    "4<=5 or 7==8               # or means any one should be true"
   ]
  },
  {
   "cell_type": "code",
   "execution_count": 57,
   "id": "06844dda",
   "metadata": {},
   "outputs": [
    {
     "data": {
      "text/plain": [
       "False"
      ]
     },
     "execution_count": 57,
     "metadata": {},
     "output_type": "execute_result"
    }
   ],
   "source": [
    "not (4 <= 5 or 7 == 8)     # from bracket we get true therefore not(true) is opposite to true that is false"
   ]
  },
  {
   "cell_type": "code",
   "execution_count": 58,
   "id": "1f26fabe",
   "metadata": {},
   "outputs": [
    {
     "data": {
      "text/plain": [
       "1"
      ]
     },
     "execution_count": 58,
     "metadata": {},
     "output_type": "execute_result"
    }
   ],
   "source": [
    "# bitwise operators\n",
    "n1 = 3                # 0011\n",
    "n2 = 5                # 0101\n",
    "n1 & n2               # 0001 ( 0 and 0 = 0 , 0 and 1 = 0, 1 and 1=1)"
   ]
  },
  {
   "cell_type": "code",
   "execution_count": 59,
   "id": "34706fb1",
   "metadata": {},
   "outputs": [
    {
     "data": {
      "text/plain": [
       "7"
      ]
     },
     "execution_count": 59,
     "metadata": {},
     "output_type": "execute_result"
    }
   ],
   "source": [
    "n1 | n2               # 0111"
   ]
  },
  {
   "cell_type": "code",
   "execution_count": 60,
   "id": "440472f8",
   "metadata": {},
   "outputs": [
    {
     "data": {
      "text/plain": [
       "6"
      ]
     },
     "execution_count": 60,
     "metadata": {},
     "output_type": "execute_result"
    }
   ],
   "source": [
    "n1 ^ n2               # 0110 (xor)"
   ]
  },
  {
   "cell_type": "code",
   "execution_count": 65,
   "id": "ce82cd0d",
   "metadata": {},
   "outputs": [
    {
     "data": {
      "text/plain": [
       "-4"
      ]
     },
     "execution_count": 65,
     "metadata": {},
     "output_type": "execute_result"
    }
   ],
   "source": [
    "~n1 # 1's complement (formulae)- (-(n1+1))"
   ]
  },
  {
   "cell_type": "code",
   "execution_count": 67,
   "id": "90d91804",
   "metadata": {},
   "outputs": [
    {
     "data": {
      "text/plain": [
       "64"
      ]
     },
     "execution_count": 67,
     "metadata": {},
     "output_type": "execute_result"
    }
   ],
   "source": [
    "a = 2   # 0000 0010\n",
    "b = 5   # 0000 0101\n",
    "a<<b    # ( a left shift 5)(the value present in a , 5 times it should be left shifted ; that is 0100 0000 )"
   ]
  },
  {
   "cell_type": "code",
   "execution_count": 70,
   "id": "e6b5accf",
   "metadata": {},
   "outputs": [
    {
     "data": {
      "text/plain": [
       "2"
      ]
     },
     "execution_count": 70,
     "metadata": {},
     "output_type": "execute_result"
    }
   ],
   "source": [
    "10>>2 # 1010>>2 ; that is 0010"
   ]
  },
  {
   "cell_type": "code",
   "execution_count": 73,
   "id": "7fb5cad0",
   "metadata": {},
   "outputs": [
    {
     "name": "stderr",
     "output_type": "stream",
     "text": [
      "<>:3: SyntaxWarning: \"is\" with a literal. Did you mean \"==\"?\n",
      "<>:3: SyntaxWarning: \"is\" with a literal. Did you mean \"==\"?\n",
      "<ipython-input-73-3aedfbbcaddc>:3: SyntaxWarning: \"is\" with a literal. Did you mean \"==\"?\n",
      "  a is 2\n"
     ]
    },
    {
     "data": {
      "text/plain": [
       "True"
      ]
     },
     "execution_count": 73,
     "metadata": {},
     "output_type": "execute_result"
    }
   ],
   "source": [
    "# identity operators \n",
    "a = 2\n",
    "a is 2"
   ]
  },
  {
   "cell_type": "code",
   "execution_count": 74,
   "id": "df72bea1",
   "metadata": {},
   "outputs": [
    {
     "name": "stderr",
     "output_type": "stream",
     "text": [
      "<>:1: SyntaxWarning: \"is not\" with a literal. Did you mean \"!=\"?\n",
      "<>:1: SyntaxWarning: \"is not\" with a literal. Did you mean \"!=\"?\n",
      "<ipython-input-74-ceb0796d34a2>:1: SyntaxWarning: \"is not\" with a literal. Did you mean \"!=\"?\n",
      "  a is not 5\n"
     ]
    },
    {
     "data": {
      "text/plain": [
       "True"
      ]
     },
     "execution_count": 74,
     "metadata": {},
     "output_type": "execute_result"
    }
   ],
   "source": [
    "a is not 5"
   ]
  },
  {
   "cell_type": "code",
   "execution_count": 75,
   "id": "1e32ddff",
   "metadata": {},
   "outputs": [
    {
     "name": "stderr",
     "output_type": "stream",
     "text": [
      "<>:1: SyntaxWarning: \"is not\" with a literal. Did you mean \"!=\"?\n",
      "<>:1: SyntaxWarning: \"is not\" with a literal. Did you mean \"!=\"?\n",
      "<ipython-input-75-179784207a65>:1: SyntaxWarning: \"is not\" with a literal. Did you mean \"!=\"?\n",
      "  a is not 2\n"
     ]
    },
    {
     "data": {
      "text/plain": [
       "False"
      ]
     },
     "execution_count": 75,
     "metadata": {},
     "output_type": "execute_result"
    }
   ],
   "source": [
    "a is not 2"
   ]
  },
  {
   "cell_type": "code",
   "execution_count": 77,
   "id": "e6eece7b",
   "metadata": {},
   "outputs": [
    {
     "name": "stdout",
     "output_type": "stream",
     "text": [
      "False\n",
      "True\n",
      "True\n"
     ]
    }
   ],
   "source": [
    "x = 8\n",
    "y = 9\n",
    "z = 8\n",
    "print(x is y)\n",
    "print(x is z)\n",
    "print(y is not z)"
   ]
  },
  {
   "cell_type": "code",
   "execution_count": 78,
   "id": "7deaf785",
   "metadata": {},
   "outputs": [
    {
     "data": {
      "text/plain": [
       "True"
      ]
     },
     "execution_count": 78,
     "metadata": {},
     "output_type": "execute_result"
    }
   ],
   "source": [
    "# Membership operators\n",
    "k = [1,2,3,4]\n",
    "4 in k"
   ]
  },
  {
   "cell_type": "code",
   "execution_count": 79,
   "id": "62222496",
   "metadata": {},
   "outputs": [
    {
     "data": {
      "text/plain": [
       "False"
      ]
     },
     "execution_count": 79,
     "metadata": {},
     "output_type": "execute_result"
    }
   ],
   "source": [
    "10 in k"
   ]
  },
  {
   "cell_type": "code",
   "execution_count": 80,
   "id": "8630841b",
   "metadata": {},
   "outputs": [
    {
     "data": {
      "text/plain": [
       "False"
      ]
     },
     "execution_count": 80,
     "metadata": {},
     "output_type": "execute_result"
    }
   ],
   "source": [
    "2 not in k"
   ]
  },
  {
   "cell_type": "code",
   "execution_count": 81,
   "id": "8cb1513d",
   "metadata": {},
   "outputs": [
    {
     "data": {
      "text/plain": [
       "True"
      ]
     },
     "execution_count": 81,
     "metadata": {},
     "output_type": "execute_result"
    }
   ],
   "source": [
    "5 not in k"
   ]
  }
 ],
 "metadata": {
  "kernelspec": {
   "display_name": "Python 3",
   "language": "python",
   "name": "python3"
  },
  "language_info": {
   "codemirror_mode": {
    "name": "ipython",
    "version": 3
   },
   "file_extension": ".py",
   "mimetype": "text/x-python",
   "name": "python",
   "nbconvert_exporter": "python",
   "pygments_lexer": "ipython3",
   "version": "3.8.8"
  }
 },
 "nbformat": 4,
 "nbformat_minor": 5
}
